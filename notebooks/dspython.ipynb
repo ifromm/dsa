{
 "cells": [
  {
   "cell_type": "markdown",
   "id": "32afb885-4e17-4545-a33f-693837a78a10",
   "metadata": {},
   "source": [
    "### Size of the dynamic arrays used for lists in python"
   ]
  },
  {
   "cell_type": "code",
   "execution_count": 12,
   "id": "06afcafb-1bf7-4172-aa5a-eeaed0724c9a",
   "metadata": {},
   "outputs": [],
   "source": [
    "# some utility classes\n",
    "\n",
    "class Empty(Exception):\n",
    "    pass"
   ]
  },
  {
   "cell_type": "code",
   "execution_count": 13,
   "id": "598bef80-29fd-4fd2-aa64-3a055fa0f455",
   "metadata": {},
   "outputs": [
    {
     "name": "stdout",
     "output_type": "stream",
     "text": [
      "Array length: 0,Size in bytes: 56,Difference size in bytes: 56\n",
      "Array length: 1,Size in bytes: 88,Difference size in bytes: 32\n",
      "Array length: 2,Size in bytes: 88,Difference size in bytes: 0\n",
      "Array length: 3,Size in bytes: 88,Difference size in bytes: 0\n",
      "Array length: 4,Size in bytes: 88,Difference size in bytes: 0\n",
      "Array length: 5,Size in bytes: 120,Difference size in bytes: 32\n",
      "Array length: 6,Size in bytes: 120,Difference size in bytes: 0\n",
      "Array length: 7,Size in bytes: 120,Difference size in bytes: 0\n",
      "Array length: 8,Size in bytes: 120,Difference size in bytes: 0\n",
      "Array length: 9,Size in bytes: 184,Difference size in bytes: 64\n",
      "Array length: 10,Size in bytes: 184,Difference size in bytes: 0\n",
      "Array length: 11,Size in bytes: 184,Difference size in bytes: 0\n",
      "Array length: 12,Size in bytes: 184,Difference size in bytes: 0\n",
      "Array length: 13,Size in bytes: 184,Difference size in bytes: 0\n",
      "Array length: 14,Size in bytes: 184,Difference size in bytes: 0\n",
      "Array length: 15,Size in bytes: 184,Difference size in bytes: 0\n",
      "Array length: 16,Size in bytes: 184,Difference size in bytes: 0\n",
      "Array length: 17,Size in bytes: 248,Difference size in bytes: 64\n",
      "Array length: 18,Size in bytes: 248,Difference size in bytes: 0\n",
      "Array length: 19,Size in bytes: 248,Difference size in bytes: 0\n",
      "Array length: 20,Size in bytes: 248,Difference size in bytes: 0\n",
      "Array length: 21,Size in bytes: 248,Difference size in bytes: 0\n",
      "Array length: 22,Size in bytes: 248,Difference size in bytes: 0\n",
      "Array length: 23,Size in bytes: 248,Difference size in bytes: 0\n",
      "Array length: 24,Size in bytes: 248,Difference size in bytes: 0\n",
      "Array length: 25,Size in bytes: 312,Difference size in bytes: 64\n",
      "Array length: 26,Size in bytes: 312,Difference size in bytes: 0\n",
      "Array length: 27,Size in bytes: 312,Difference size in bytes: 0\n",
      "Array length: 28,Size in bytes: 312,Difference size in bytes: 0\n",
      "Array length: 29,Size in bytes: 312,Difference size in bytes: 0\n",
      "Array length: 30,Size in bytes: 312,Difference size in bytes: 0\n",
      "Array length: 31,Size in bytes: 312,Difference size in bytes: 0\n",
      "Array length: 32,Size in bytes: 312,Difference size in bytes: 0\n",
      "Array length: 33,Size in bytes: 376,Difference size in bytes: 64\n",
      "Array length: 34,Size in bytes: 376,Difference size in bytes: 0\n",
      "Array length: 35,Size in bytes: 376,Difference size in bytes: 0\n",
      "Array length: 36,Size in bytes: 376,Difference size in bytes: 0\n",
      "Array length: 37,Size in bytes: 376,Difference size in bytes: 0\n",
      "Array length: 38,Size in bytes: 376,Difference size in bytes: 0\n",
      "Array length: 39,Size in bytes: 376,Difference size in bytes: 0\n",
      "Array length: 40,Size in bytes: 376,Difference size in bytes: 0\n",
      "Array length: 41,Size in bytes: 472,Difference size in bytes: 96\n",
      "Array length: 42,Size in bytes: 472,Difference size in bytes: 0\n",
      "Array length: 43,Size in bytes: 472,Difference size in bytes: 0\n",
      "Array length: 44,Size in bytes: 472,Difference size in bytes: 0\n",
      "Array length: 45,Size in bytes: 472,Difference size in bytes: 0\n",
      "Array length: 46,Size in bytes: 472,Difference size in bytes: 0\n",
      "Array length: 47,Size in bytes: 472,Difference size in bytes: 0\n",
      "Array length: 48,Size in bytes: 472,Difference size in bytes: 0\n",
      "Array length: 49,Size in bytes: 472,Difference size in bytes: 0\n",
      "Array length: 50,Size in bytes: 472,Difference size in bytes: 0\n",
      "Array length: 51,Size in bytes: 472,Difference size in bytes: 0\n",
      "Array length: 52,Size in bytes: 472,Difference size in bytes: 0\n",
      "Array length: 53,Size in bytes: 568,Difference size in bytes: 96\n",
      "Array length: 54,Size in bytes: 568,Difference size in bytes: 0\n",
      "Array length: 55,Size in bytes: 568,Difference size in bytes: 0\n",
      "Array length: 56,Size in bytes: 568,Difference size in bytes: 0\n",
      "Array length: 57,Size in bytes: 568,Difference size in bytes: 0\n",
      "Array length: 58,Size in bytes: 568,Difference size in bytes: 0\n",
      "Array length: 59,Size in bytes: 568,Difference size in bytes: 0\n",
      "Array length: 60,Size in bytes: 568,Difference size in bytes: 0\n",
      "Array length: 61,Size in bytes: 568,Difference size in bytes: 0\n",
      "Array length: 62,Size in bytes: 568,Difference size in bytes: 0\n",
      "Array length: 63,Size in bytes: 568,Difference size in bytes: 0\n",
      "Array length: 64,Size in bytes: 568,Difference size in bytes: 0\n",
      "Array length: 65,Size in bytes: 664,Difference size in bytes: 96\n",
      "Array length: 66,Size in bytes: 664,Difference size in bytes: 0\n",
      "Array length: 67,Size in bytes: 664,Difference size in bytes: 0\n",
      "Array length: 68,Size in bytes: 664,Difference size in bytes: 0\n",
      "Array length: 69,Size in bytes: 664,Difference size in bytes: 0\n",
      "Array length: 70,Size in bytes: 664,Difference size in bytes: 0\n",
      "Array length: 71,Size in bytes: 664,Difference size in bytes: 0\n",
      "Array length: 72,Size in bytes: 664,Difference size in bytes: 0\n",
      "Array length: 73,Size in bytes: 664,Difference size in bytes: 0\n",
      "Array length: 74,Size in bytes: 664,Difference size in bytes: 0\n",
      "Array length: 75,Size in bytes: 664,Difference size in bytes: 0\n",
      "Array length: 76,Size in bytes: 664,Difference size in bytes: 0\n",
      "Array length: 77,Size in bytes: 792,Difference size in bytes: 128\n",
      "Array length: 78,Size in bytes: 792,Difference size in bytes: 0\n",
      "Array length: 79,Size in bytes: 792,Difference size in bytes: 0\n",
      "Array length: 80,Size in bytes: 792,Difference size in bytes: 0\n",
      "Array length: 81,Size in bytes: 792,Difference size in bytes: 0\n",
      "Array length: 82,Size in bytes: 792,Difference size in bytes: 0\n",
      "Array length: 83,Size in bytes: 792,Difference size in bytes: 0\n",
      "Array length: 84,Size in bytes: 792,Difference size in bytes: 0\n",
      "Array length: 85,Size in bytes: 792,Difference size in bytes: 0\n",
      "Array length: 86,Size in bytes: 792,Difference size in bytes: 0\n",
      "Array length: 87,Size in bytes: 792,Difference size in bytes: 0\n",
      "Array length: 88,Size in bytes: 792,Difference size in bytes: 0\n",
      "Array length: 89,Size in bytes: 792,Difference size in bytes: 0\n",
      "Array length: 90,Size in bytes: 792,Difference size in bytes: 0\n",
      "Array length: 91,Size in bytes: 792,Difference size in bytes: 0\n",
      "Array length: 92,Size in bytes: 792,Difference size in bytes: 0\n",
      "Array length: 93,Size in bytes: 920,Difference size in bytes: 128\n",
      "Array length: 94,Size in bytes: 920,Difference size in bytes: 0\n",
      "Array length: 95,Size in bytes: 920,Difference size in bytes: 0\n",
      "Array length: 96,Size in bytes: 920,Difference size in bytes: 0\n",
      "Array length: 97,Size in bytes: 920,Difference size in bytes: 0\n",
      "Array length: 98,Size in bytes: 920,Difference size in bytes: 0\n",
      "Array length: 99,Size in bytes: 920,Difference size in bytes: 0\n"
     ]
    }
   ],
   "source": [
    "import sys\n",
    "\n",
    "data = []\n",
    "n = 100\n",
    "old_size = 0\n",
    "for i in range(n):\n",
    "    print(f'Array length: {len(data)},'\n",
    "          f'Size in bytes: {sys.getsizeof(data)},'\n",
    "          f'Difference size in bytes: {sys.getsizeof(data) - old_size}')\n",
    "    old_size = sys.getsizeof(data)\n",
    "    data.append(1)"
   ]
  },
  {
   "cell_type": "markdown",
   "id": "943f6eb2-c75c-422f-ad28-58670551e113",
   "metadata": {},
   "source": [
    "### Growing dynamic arrays by doubling the size"
   ]
  },
  {
   "cell_type": "code",
   "execution_count": 14,
   "id": "2b308e94-8d86-4e2b-bec4-5fff436cc28c",
   "metadata": {},
   "outputs": [
    {
     "name": "stdout",
     "output_type": "stream",
     "text": [
      "[2, 4, 8, 16]\n",
      "[1, 2, 1, 4, 1, 1, 1, 8, 1, 1, 1, 1, 1, 1, 1, 16]\n"
     ]
    },
    {
     "data": {
      "text/plain": [
       "Text(0, 0.5, 'Number of operations')"
      ]
     },
     "execution_count": 14,
     "metadata": {},
     "output_type": "execute_result"
    },
    {
     "data": {
      "image/png": "[encoded data removed]",
      "text/plain": [
       "<Figure size 640x480 with 1 Axes>"
      ]
     },
     "metadata": {},
     "output_type": "display_data"
    }
   ],
   "source": [
    "import math\n",
    "import seaborn as sns\n",
    "import matplotlib.pyplot as plt\n",
    "\n",
    "n = 16\n",
    "overflows = [2 ** i for i in range(1, int(math.log(n, 2) + 1))]\n",
    "print(overflows)\n",
    "\n",
    "operations = []\n",
    "for i in range(1, n + 1):\n",
    "    if i in overflows:\n",
    "        operations.append(i)\n",
    "    else:\n",
    "        operations.append(1)\n",
    "\n",
    "print(operations)\n",
    "sns.barplot(x=list(range(1, n+1)), y=operations)\n",
    "plt.title('Number of operations when growing dynamic arrays')\n",
    "plt.xlabel('Current number of elements')\n",
    "plt.ylabel('Number of operations')"
   ]
  },
  {
   "cell_type": "markdown",
   "id": "cf04d1c1-e9df-428c-a70a-1ce766aadbe1",
   "metadata": {},
   "source": [
    "### Amortized cost of list operations"
   ]
  },
  {
   "cell_type": "code",
   "execution_count": 15,
   "id": "5c3d237f-89c0-46ea-9cf7-dc43792a0a7d",
   "metadata": {},
   "outputs": [
    {
     "name": "stdout",
     "output_type": "stream",
     "text": [
      "1\n",
      "10\n",
      "100\n",
      "1000\n",
      "10000\n",
      "100000\n",
      "1000000\n",
      "[[1, np.float64(3.0556839192286134e-07), np.float64(4.5043451447079087e-07)], [10, np.float64(3.6393224339311326e-08), np.float64(1.4043414710009863e-08)], [100, np.float64(1.9638328618990878e-08), np.float64(1.5857606004925413e-09)], [1000, np.float64(2.0824966971607263e-08), np.float64(3.761772953682385e-10)], [10000, np.float64(2.1143759950064126e-08), np.float64(4.1826663573827645e-09)], [100000, np.float64(2.4833153336658146e-08), np.float64(3.355286019531847e-09)], [1000000, np.float64(2.519506110062745e-08), np.float64(2.616057498700928e-09)]]\n",
      "[      1      10     100    1000   10000  100000 1000000]\n"
     ]
    },
    {
     "data": {
      "text/plain": [
       "Text(0, 0.5, 'time')"
      ]
     },
     "execution_count": 15,
     "metadata": {},
     "output_type": "execute_result"
    },
    {
     "data": {
      "image/png": "[encoded data removed]",
      "text/plain": [
       "<Figure size 640x480 with 1 Axes>"
      ]
     },
     "metadata": {},
     "output_type": "display_data"
    }
   ],
   "source": [
    "import timeit\n",
    "import numpy as np\n",
    "import pandas as pd\n",
    "import seaborn as sns\n",
    "import matplotlib.pyplot as plt\n",
    "\n",
    "\n",
    "def append_cost(n=100):\n",
    "    data = []\n",
    "    for i in range(n):\n",
    "        data.append(None)\n",
    "\n",
    "\n",
    "ns = [1, 10, 100, 1000, 10000, 100000, 1000000]\n",
    "results = []\n",
    "for n in ns:\n",
    "    print(n)\n",
    "    time = np.array(timeit.repeat('append_cost(n)', globals=globals(), number=1, repeat=30))\n",
    "    time /= n\n",
    "    results.append([n, np.mean(time), np.std(time, ddof=1)])\n",
    "\n",
    "print(results)\n",
    "df = pd.DataFrame(results, columns=['n', 'time', 'error'])\n",
    "df.head()    \n",
    "\n",
    "plot = sns.lineplot(data=df, x='n', y='time')\n",
    "plot.set(xscale='log')\n",
    "print(df.n.to_numpy())\n",
    "plt.errorbar(df.n.to_numpy(), df.time.to_numpy(), yerr=df.error.to_numpy())\n",
    "plt.title(\"Amortized cost of python's list append\")\n",
    "plt.xlabel('n')\n",
    "plt.ylabel('time')"
   ]
  },
  {
   "cell_type": "markdown",
   "id": "ef6eb5fa-f1fe-4200-bf1d-bf65d3be8930",
   "metadata": {},
   "source": [
    "### Implementing stacks in python"
   ]
  },
  {
   "cell_type": "code",
   "execution_count": 16,
   "id": "9d254a57-cf4e-4e18-9d7e-8aabcb67da41",
   "metadata": {},
   "outputs": [],
   "source": [
    "class Stack:\n",
    "    \n",
    "    \n",
    "    def __init__(self):\n",
    "        self._data = []\n",
    "        \n",
    "        \n",
    "    def __len__(self):\n",
    "        return len(self._data)\n",
    "    \n",
    "    \n",
    "    def is_empty(self):\n",
    "        return len(self._data) == 0\n",
    "    \n",
    "    \n",
    "    def push(self, e):\n",
    "        self._data.append(e)\n",
    "        \n",
    "    \n",
    "    def top(self):\n",
    "        if self.is_empty():\n",
    "            raise Empty('Stack is empty')\n",
    "        return self._data[-1]\n",
    "    \n",
    "    \n",
    "    def pop(self):\n",
    "        if self.is_empty():\n",
    "            raise Empty('Stack is empty')\n",
    "        return self._data.pop()\n",
    "    \n",
    "    \n",
    "    def __str__(self):\n",
    "        return f'{self._data}'"
   ]
  },
  {
   "cell_type": "code",
   "execution_count": 17,
   "id": "07276fa7-ef33-4513-a946-694dc4a9d645",
   "metadata": {},
   "outputs": [
    {
     "ename": "Empty",
     "evalue": "Stack is empty",
     "output_type": "error",
     "traceback": [
      "\u001b[31m---------------------------------------------------------------------------\u001b[39m",
      "\u001b[31mEmpty\u001b[39m                                     Traceback (most recent call last)",
      "\u001b[36mCell\u001b[39m\u001b[36m \u001b[39m\u001b[32mIn[17]\u001b[39m\u001b[32m, line 2\u001b[39m\n\u001b[32m      1\u001b[39m s = Stack()\n\u001b[32m----> \u001b[39m\u001b[32m2\u001b[39m \u001b[43ms\u001b[49m\u001b[43m.\u001b[49m\u001b[43mpop\u001b[49m\u001b[43m(\u001b[49m\u001b[43m)\u001b[49m \u001b[38;5;66;03m# this will raise an exception, because the stack is empty\u001b[39;00m\n",
      "\u001b[36mCell\u001b[39m\u001b[36m \u001b[39m\u001b[32mIn[16]\u001b[39m\u001b[32m, line 28\u001b[39m, in \u001b[36mStack.pop\u001b[39m\u001b[34m(self)\u001b[39m\n\u001b[32m     26\u001b[39m \u001b[38;5;28;01mdef\u001b[39;00m\u001b[38;5;250m \u001b[39m\u001b[34mpop\u001b[39m(\u001b[38;5;28mself\u001b[39m):\n\u001b[32m     27\u001b[39m     \u001b[38;5;28;01mif\u001b[39;00m \u001b[38;5;28mself\u001b[39m.is_empty():\n\u001b[32m---> \u001b[39m\u001b[32m28\u001b[39m         \u001b[38;5;28;01mraise\u001b[39;00m Empty(\u001b[33m'\u001b[39m\u001b[33mStack is empty\u001b[39m\u001b[33m'\u001b[39m)\n\u001b[32m     29\u001b[39m     \u001b[38;5;28;01mreturn\u001b[39;00m \u001b[38;5;28mself\u001b[39m._data.pop()\n",
      "\u001b[31mEmpty\u001b[39m: Stack is empty"
     ]
    }
   ],
   "source": [
    "s = Stack()\n",
    "s.pop() # this will raise an exception, because the stack is empty"
   ]
  },
  {
   "cell_type": "code",
   "execution_count": null,
   "id": "414fa03e-35cc-454e-8c68-8b37c7e3d2fa",
   "metadata": {},
   "outputs": [
    {
     "name": "stdout",
     "output_type": "stream",
     "text": [
      "Length: 2\n",
      "Pop: 3\n",
      "Empty: False\n",
      "Pop: 5\n",
      "Empty: True\n",
      "Top: 9\n",
      "Length: 3\n",
      "Pop: 4\n",
      "Stack: [7, 9, 6]\n"
     ]
    }
   ],
   "source": [
    "s.push(5)\n",
    "s.push(3)\n",
    "print(f'Length: {len(s)}')\n",
    "print(f'Pop: {s.pop()}')\n",
    "print(f'Empty: {s.is_empty()}')\n",
    "print(f'Pop: {s.pop()}')\n",
    "print(f'Empty: {s.is_empty()}')\n",
    "s.push(7)\n",
    "s.push(9)\n",
    "print(f'Top: {s.top()}')\n",
    "s.push(4)\n",
    "print(f'Length: {len(s)}')\n",
    "print(f'Pop: {s.pop()}')\n",
    "s.push(6)\n",
    "print(f'Stack: {s}')"
   ]
  },
  {
   "cell_type": "markdown",
   "id": "cbb9121c-6984-4d0b-a495-307a0d94bb58",
   "metadata": {},
   "source": [
    "### Implementing queues in python"
   ]
  },
  {
   "cell_type": "code",
   "execution_count": null,
   "id": "ec927ec9-875e-46d2-930a-c4e70e3a5a36",
   "metadata": {},
   "outputs": [],
   "source": [
    "class Queue:\n",
    "    \n",
    "    \n",
    "    DEFAULT_CAPACITY = 10\n",
    "    \n",
    "    \n",
    "    def __init__(self):\n",
    "        self._data = [None] * Queue.DEFAULT_CAPACITY\n",
    "        self._size = 0\n",
    "        self._front = 0\n",
    "        \n",
    "    \n",
    "    def __len__(self):\n",
    "        return self._size\n",
    "    \n",
    "    \n",
    "    def is_empty(self):\n",
    "        return self._size == 0\n",
    "    \n",
    "    \n",
    "    def first(self):\n",
    "        if self.is_empty():\n",
    "            raise Empty('Queue is empty')\n",
    "        return self._data[self._front]\n",
    "    \n",
    "    \n",
    "    def dequeue(self):\n",
    "        e = self.first()\n",
    "        self._data[self._front] = None\n",
    "        self._front = (self._front + 1) % len(self._data)\n",
    "        self._size -= 1\n",
    "        return e\n",
    "    \n",
    "    \n",
    "    def enqueue(self, e):\n",
    "        if self._size == len(self._data):\n",
    "            self._resize(2 * len(self._data))\n",
    "        back = (self._front + self._size) % len(self._data)\n",
    "        self._data[back] = e\n",
    "        self._size += 1\n",
    "        \n",
    "        \n",
    "    def _resize(self, capacity):\n",
    "        old = self._data\n",
    "        self._data = [None] * capacity\n",
    "        i = self._front\n",
    "        for j in range(self._size):\n",
    "            self._data[j] = old[i]\n",
    "            i = (i + 1) % len(old)\n",
    "        self._front = 0\n",
    "    \n",
    "    \n",
    "    def __str__(self):\n",
    "        return f'{self._data}'"
   ]
  },
  {
   "cell_type": "code",
   "execution_count": null,
   "id": "815dcdea-96df-45d4-9538-5b0429d4bac1",
   "metadata": {},
   "outputs": [
    {
     "ename": "Empty",
     "evalue": "Queue is empty",
     "output_type": "error",
     "traceback": [
      "\u001b[1;31m---------------------------------------------------------------------------\u001b[0m",
      "\u001b[1;31mEmpty\u001b[0m                                     Traceback (most recent call last)",
      "Input \u001b[1;32mIn [11]\u001b[0m, in \u001b[0;36m<cell line: 2>\u001b[1;34m()\u001b[0m\n\u001b[0;32m      1\u001b[0m q \u001b[38;5;241m=\u001b[39m Queue()\n\u001b[1;32m----> 2\u001b[0m \u001b[43mq\u001b[49m\u001b[38;5;241;43m.\u001b[39;49m\u001b[43mdequeue\u001b[49m\u001b[43m(\u001b[49m\u001b[43m)\u001b[49m\n",
      "Input \u001b[1;32mIn [10]\u001b[0m, in \u001b[0;36mQueue.dequeue\u001b[1;34m(self)\u001b[0m\n\u001b[0;32m     27\u001b[0m \u001b[38;5;28;01mdef\u001b[39;00m \u001b[38;5;21mdequeue\u001b[39m(\u001b[38;5;28mself\u001b[39m):\n\u001b[1;32m---> 28\u001b[0m     e \u001b[38;5;241m=\u001b[39m \u001b[38;5;28;43mself\u001b[39;49m\u001b[38;5;241;43m.\u001b[39;49m\u001b[43mfirst\u001b[49m\u001b[43m(\u001b[49m\u001b[43m)\u001b[49m\n\u001b[0;32m     29\u001b[0m     \u001b[38;5;28mself\u001b[39m\u001b[38;5;241m.\u001b[39m_data[\u001b[38;5;28mself\u001b[39m\u001b[38;5;241m.\u001b[39m_front] \u001b[38;5;241m=\u001b[39m \u001b[38;5;28;01mNone\u001b[39;00m\n\u001b[0;32m     30\u001b[0m     \u001b[38;5;28mself\u001b[39m\u001b[38;5;241m.\u001b[39m_front \u001b[38;5;241m=\u001b[39m (\u001b[38;5;28mself\u001b[39m\u001b[38;5;241m.\u001b[39m_front \u001b[38;5;241m+\u001b[39m \u001b[38;5;241m1\u001b[39m) \u001b[38;5;241m%\u001b[39m \u001b[38;5;28mlen\u001b[39m(\u001b[38;5;28mself\u001b[39m\u001b[38;5;241m.\u001b[39m_data)\n",
      "Input \u001b[1;32mIn [10]\u001b[0m, in \u001b[0;36mQueue.first\u001b[1;34m(self)\u001b[0m\n\u001b[0;32m     21\u001b[0m \u001b[38;5;28;01mdef\u001b[39;00m \u001b[38;5;21mfirst\u001b[39m(\u001b[38;5;28mself\u001b[39m):\n\u001b[0;32m     22\u001b[0m     \u001b[38;5;28;01mif\u001b[39;00m \u001b[38;5;28mself\u001b[39m\u001b[38;5;241m.\u001b[39mis_empty():\n\u001b[1;32m---> 23\u001b[0m         \u001b[38;5;28;01mraise\u001b[39;00m Empty(\u001b[38;5;124m'\u001b[39m\u001b[38;5;124mQueue is empty\u001b[39m\u001b[38;5;124m'\u001b[39m)\n\u001b[0;32m     24\u001b[0m     \u001b[38;5;28;01mreturn\u001b[39;00m \u001b[38;5;28mself\u001b[39m\u001b[38;5;241m.\u001b[39m_data[\u001b[38;5;28mself\u001b[39m\u001b[38;5;241m.\u001b[39m_front]\n",
      "\u001b[1;31mEmpty\u001b[0m: Queue is empty"
     ]
    }
   ],
   "source": [
    "q = Queue()\n",
    "q.dequeue() # this will raise an exception, because the queue is empty"
   ]
  },
  {
   "cell_type": "code",
   "execution_count": null,
   "id": "f1b2e403-5073-41cb-a94e-42581fbeb996",
   "metadata": {},
   "outputs": [
    {
     "name": "stdout",
     "output_type": "stream",
     "text": [
      "Length: 2\n",
      "Dequeue: 5\n",
      "Empty: False\n",
      "Dequeue: 3\n",
      "Empty: True\n",
      "First: 7\n",
      "Length: 3\n",
      "Dequeue: 7\n",
      "Queue: [None, None, None, 9, 4, 6, None, None, None, None]\n"
     ]
    }
   ],
   "source": [
    "q.enqueue(5)\n",
    "q.enqueue(3)\n",
    "print(f'Length: {len(q)}')\n",
    "print(f'Dequeue: {q.dequeue()}')\n",
    "print(f'Empty: {q.is_empty()}')\n",
    "print(f'Dequeue: {q.dequeue()}')\n",
    "print(f'Empty: {q.is_empty()}')\n",
    "q.enqueue(7)\n",
    "q.enqueue(9)\n",
    "print(f'First: {q.first()}')\n",
    "q.enqueue(4)\n",
    "print(f'Length: {len(q)}')\n",
    "print(f'Dequeue: {q.dequeue()}')\n",
    "q.enqueue(6)\n",
    "print(f'Queue: {q}')"
   ]
  },
  {
   "cell_type": "markdown",
   "id": "f77cf609-3f9c-4a67-8efa-98d36212d7f1",
   "metadata": {},
   "source": [
    "### Singly linked lists"
   ]
  },
  {
   "cell_type": "code",
   "execution_count": null,
   "id": "a3b1e913-05ca-4d02-8eae-2b45d6df359a",
   "metadata": {},
   "outputs": [],
   "source": [
    "class SinglyLinkedList:\n",
    "\n",
    "    \n",
    "    class _Node:\n",
    "    \n",
    "    \n",
    "        def __init__(self, element):\n",
    "            self._element = element\n",
    "            self._next = None\n",
    "\n",
    "    \n",
    "    def __init__(self):\n",
    "        self._head = None\n",
    "        self._tail = None\n",
    "        self._size = 0\n",
    "    \n",
    "    \n",
    "    def add_first(self, element):\n",
    "        new = self._Node(element)\n",
    "        new._next = self._head\n",
    "        self._head = new\n",
    "        if self._size == 0:\n",
    "            self._tail = new\n",
    "        self._size += 1\n",
    "        \n",
    "\n",
    "    def add_last(self, element):\n",
    "        new = self._Node(element)\n",
    "        new._next = None\n",
    "        if self._size > 0:\n",
    "            self._tail._next = new\n",
    "        else:\n",
    "            self._head = new\n",
    "        self._tail = new\n",
    "        self._size += 1\n",
    "    \n",
    "    \n",
    "    def remove_first(self):\n",
    "        if self._size == 0:\n",
    "            raise Empty('Singly linked list is empty')\n",
    "        self._head = self._head._next\n",
    "        self._size -= 1\n",
    "    \n",
    "    \n",
    "    def is_empty(self):\n",
    "        return self._size == 0\n",
    "    \n",
    "    \n",
    "    def next(self, node=None):\n",
    "        if node:\n",
    "            return node._next\n",
    "        else:\n",
    "            return self._head\n",
    "        \n",
    "    \n",
    "    def __len__(self):\n",
    "        return self._size\n",
    "    \n",
    "    \n",
    "    def __str__(self):\n",
    "        result = '[ '\n",
    "        node = self.next()\n",
    "        while node:\n",
    "            result += str(node._element) + ' '\n",
    "            node = self.next(node)\n",
    "        return result + ']'"
   ]
  },
  {
   "cell_type": "code",
   "execution_count": null,
   "id": "ffc0c41f-58a0-4b6e-9c19-9aaea823589a",
   "metadata": {},
   "outputs": [
    {
     "name": "stdout",
     "output_type": "stream",
     "text": [
      "[ 20 5 10 ]\n",
      "3\n",
      "False\n",
      "[ ]\n",
      "[ True ]\n"
     ]
    }
   ],
   "source": [
    "list = SinglyLinkedList()\n",
    "list.add_last(5)\n",
    "list.add_last(10)\n",
    "list.add_first(20)\n",
    "print(list)\n",
    "print(len(list))\n",
    "print(list.is_empty())\n",
    "list.remove_first()\n",
    "list.remove_first()\n",
    "list.remove_first()\n",
    "print(list)\n",
    "list.add_first(True)\n",
    "print(list)"
   ]
  },
  {
   "cell_type": "code",
   "execution_count": null,
   "id": "521a880a-8c07-4ac1-a2c7-4642b36836ff",
   "metadata": {},
   "outputs": [],
   "source": []
  }
 ],
 "metadata": {
  "kernelspec": {
   "display_name": ".venv",
   "language": "python",
   "name": "python3"
  },
  "language_info": {
   "codemirror_mode": {
    "name": "ipython",
    "version": 3
   },
   "file_extension": ".py",
   "mimetype": "text/x-python",
   "name": "python",
   "nbconvert_exporter": "python",
   "pygments_lexer": "ipython3",
   "version": "3.13.2"
  }
 },
 "nbformat": 4,
 "nbformat_minor": 5
}
