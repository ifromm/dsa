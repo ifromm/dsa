{
 "cells": [
  {
   "cell_type": "code",
   "execution_count": null,
   "id": "b30149ab-2cdd-4ed7-ba27-c245c2248147",
   "metadata": {},
   "outputs": [],
   "source": [
    "from abc import ABC, abstractmethod\n",
    "import random\n",
    "\n",
    "class Quicksort(ABC):\n",
    "    \n",
    "    \n",
    "    def __init__(self, a):\n",
    "        self.a = a\n",
    "        \n",
    "    \n",
    "    def sort(self):\n",
    "        self.quicksort(0, len(self.a) - 1)\n",
    "    \n",
    "    \n",
    "    def quicksort(self, p, r):\n",
    "        if p < r:\n",
    "            q = self.partition(p, r)\n",
    "            self.quicksort(p, self.high(q))\n",
    "            self.quicksort(q + 1, r)\n",
    "\n",
    "    @abstractmethod\n",
    "    def high(self, q):\n",
    "        pass\n",
    "    \n",
    "    @abstractmethod\n",
    "    def partition(self, p, r):\n",
    "        pass\n",
    "    \n",
    "\n",
    "class Hoare(Quicksort):\n",
    "        \n",
    "        \n",
    "    def high(self, q):\n",
    "        return q\n",
    "    \n",
    "    \n",
    "    def partition(self, p, r):\n",
    "        pivot = self.a[p]\n",
    "        i = p - 1\n",
    "        j = r + 1\n",
    "        \n",
    "        while True:\n",
    "            j -= 1\n",
    "            i += 1\n",
    "            while self.a[j] > pivot:\n",
    "                j -= 1\n",
    "            while self.a[i] < pivot:\n",
    "                i += 1\n",
    "            if i >= j:\n",
    "                return j\n",
    "            self.a[i], self.a[j] = self.a[j], self.a[i]\n",
    "            \n",
    "class RandomizedHoare(Hoare):\n",
    "    def partition(self, p, r):\n",
    "        pivot_index = random.randint(p, r)  # Select a random pivot\n",
    "        self.a[pivot_index], self.a[p] = self.a[p], self.a[pivot_index]  # Swap pivot to first position\n",
    "\n",
    "        pivot = self.a[p]\n",
    "        i = p - 1\n",
    "        j = r + 1\n",
    "        \n",
    "        while True:\n",
    "            j -= 1\n",
    "            i += 1\n",
    "            while self.a[j] > pivot:\n",
    "                j -= 1\n",
    "            while self.a[i] < pivot:\n",
    "                i += 1\n",
    "            if i >= j:\n",
    "                return j\n",
    "            self.a[i], self.a[j] = self.a[j], self.a[i]\n",
    "\n",
    "\n",
    "class Lomuto(Quicksort):\n",
    "    \n",
    "    \n",
    "    def high(self, q):\n",
    "        return q - 1\n",
    "    \n",
    "    \n",
    "    def partition(self, p, r):\n",
    "        pivot = self.a[p]\n",
    "        j = r\n",
    "        \n",
    "        for i in range(r, p, -1):\n",
    "            if self.a[i] > pivot:\n",
    "                if i < j:\n",
    "                    self.a[i], self.a[j] = self.a[j], self.a[i]\n",
    "                j -= 1\n",
    "                \n",
    "        if p < j:\n",
    "            self.a[p], self.a[j] = self.a[j], self.a[p]\n",
    "\n",
    "        return j\n",
    "        \n",
    "        "
   ]
  },
  {
   "cell_type": "code",
   "execution_count": 34,
   "id": "5534bed2-3d32-4b71-83a9-3973435ff7ad",
   "metadata": {},
   "outputs": [
    {
     "name": "stdout",
     "output_type": "stream",
     "text": [
      "[16, 4, 10, 14, 7, 9, 3, 2, 8, 1]\n",
      "[1, 2, 3, 4, 7, 8, 9, 10, 14, 16]\n"
     ]
    }
   ],
   "source": [
    "a = [16, 4, 10, 14, 7, 9, 3, 2, 8, 1]\n",
    "print(a)\n",
    "hoare = Hoare(a)\n",
    "hoare.sort()\n",
    "print(hoare.a)"
   ]
  },
  {
   "cell_type": "code",
   "execution_count": 35,
   "id": "97ebeb66",
   "metadata": {},
   "outputs": [
    {
     "name": "stdout",
     "output_type": "stream",
     "text": [
      "[16, 4, 10, 14, 7, 9, 3, 2, 8, 1]\n"
     ]
    },
    {
     "ename": "TypeError",
     "evalue": "Hoare.partition() takes 3 positional arguments but 4 were given",
     "output_type": "error",
     "traceback": [
      "\u001b[31m---------------------------------------------------------------------------\u001b[39m",
      "\u001b[31mTypeError\u001b[39m                                 Traceback (most recent call last)",
      "\u001b[36mCell\u001b[39m\u001b[36m \u001b[39m\u001b[32mIn[35]\u001b[39m\u001b[32m, line 4\u001b[39m\n\u001b[32m      2\u001b[39m \u001b[38;5;28mprint\u001b[39m(a)\n\u001b[32m      3\u001b[39m hoare = RandomizedHoare(a)\n\u001b[32m----> \u001b[39m\u001b[32m4\u001b[39m \u001b[43mhoare\u001b[49m\u001b[43m.\u001b[49m\u001b[43msort\u001b[49m\u001b[43m(\u001b[49m\u001b[43m)\u001b[49m\n\u001b[32m      5\u001b[39m \u001b[38;5;28mprint\u001b[39m(hoare.a)\n",
      "\u001b[36mCell\u001b[39m\u001b[36m \u001b[39m\u001b[32mIn[33]\u001b[39m\u001b[32m, line 12\u001b[39m, in \u001b[36mQuicksort.sort\u001b[39m\u001b[34m(self)\u001b[39m\n\u001b[32m     11\u001b[39m \u001b[38;5;28;01mdef\u001b[39;00m\u001b[38;5;250m \u001b[39m\u001b[34msort\u001b[39m(\u001b[38;5;28mself\u001b[39m):\n\u001b[32m---> \u001b[39m\u001b[32m12\u001b[39m     \u001b[38;5;28;43mself\u001b[39;49m\u001b[43m.\u001b[49m\u001b[43mquicksort\u001b[49m\u001b[43m(\u001b[49m\u001b[32;43m0\u001b[39;49m\u001b[43m,\u001b[49m\u001b[43m \u001b[49m\u001b[38;5;28;43mlen\u001b[39;49m\u001b[43m(\u001b[49m\u001b[38;5;28;43mself\u001b[39;49m\u001b[43m.\u001b[49m\u001b[43ma\u001b[49m\u001b[43m)\u001b[49m\u001b[43m \u001b[49m\u001b[43m-\u001b[49m\u001b[43m \u001b[49m\u001b[32;43m1\u001b[39;49m\u001b[43m)\u001b[49m\n",
      "\u001b[36mCell\u001b[39m\u001b[36m \u001b[39m\u001b[32mIn[33]\u001b[39m\u001b[32m, line 17\u001b[39m, in \u001b[36mQuicksort.quicksort\u001b[39m\u001b[34m(self, p, r)\u001b[39m\n\u001b[32m     15\u001b[39m \u001b[38;5;28;01mdef\u001b[39;00m\u001b[38;5;250m \u001b[39m\u001b[34mquicksort\u001b[39m(\u001b[38;5;28mself\u001b[39m, p, r):\n\u001b[32m     16\u001b[39m     \u001b[38;5;28;01mif\u001b[39;00m p < r:\n\u001b[32m---> \u001b[39m\u001b[32m17\u001b[39m         q = \u001b[38;5;28;43mself\u001b[39;49m\u001b[43m.\u001b[49m\u001b[43mpartition\u001b[49m\u001b[43m(\u001b[49m\u001b[43mp\u001b[49m\u001b[43m,\u001b[49m\u001b[43m \u001b[49m\u001b[43mr\u001b[49m\u001b[43m)\u001b[49m\n\u001b[32m     18\u001b[39m         \u001b[38;5;28mself\u001b[39m.quicksort(p, \u001b[38;5;28mself\u001b[39m.high(q))\n\u001b[32m     19\u001b[39m         \u001b[38;5;28mself\u001b[39m.quicksort(q + \u001b[32m1\u001b[39m, r)\n",
      "\u001b[36mCell\u001b[39m\u001b[36m \u001b[39m\u001b[32mIn[33]\u001b[39m\u001b[32m, line 58\u001b[39m, in \u001b[36mRandomizedHoare.partition\u001b[39m\u001b[34m(self, p, r)\u001b[39m\n\u001b[32m     55\u001b[39m pivot_index = random.randint(p, r)  \u001b[38;5;66;03m# Select a random pivot\u001b[39;00m\n\u001b[32m     56\u001b[39m \u001b[38;5;28mself\u001b[39m.a[pivot_index], \u001b[38;5;28mself\u001b[39m.a[p] = \u001b[38;5;28mself\u001b[39m.a[p], \u001b[38;5;28mself\u001b[39m.a[pivot_index]  \u001b[38;5;66;03m# Swap pivot to first position\u001b[39;00m\n\u001b[32m---> \u001b[39m\u001b[32m58\u001b[39m \u001b[38;5;28;43msuper\u001b[39;49m\u001b[43m(\u001b[49m\u001b[43m)\u001b[49m\u001b[43m.\u001b[49m\u001b[43mpartition\u001b[49m\u001b[43m(\u001b[49m\u001b[38;5;28;43mself\u001b[39;49m\u001b[43m,\u001b[49m\u001b[43m \u001b[49m\u001b[43mp\u001b[49m\u001b[43m,\u001b[49m\u001b[43m \u001b[49m\u001b[43mr\u001b[49m\u001b[43m)\u001b[49m\n\u001b[32m     59\u001b[39m pivot = \u001b[38;5;28mself\u001b[39m.a[p]\n\u001b[32m     60\u001b[39m i = p - \u001b[32m1\u001b[39m\n",
      "\u001b[31mTypeError\u001b[39m: Hoare.partition() takes 3 positional arguments but 4 were given"
     ]
    }
   ],
   "source": [
    "a = [16, 4, 10, 14, 7, 9, 3, 2, 8, 1]\n",
    "print(a)\n",
    "hoare = RandomizedHoare(a)\n",
    "hoare.sort()\n",
    "print(hoare.a)"
   ]
  },
  {
   "cell_type": "code",
   "execution_count": null,
   "id": "cd8d03f8",
   "metadata": {},
   "outputs": [
    {
     "name": "stdout",
     "output_type": "stream",
     "text": [
      "[16, 4, 10, 14, 7, 9, 3, 2, 8, 1]\n",
      "[1, 2, 3, 4, 7, 8, 9, 10, 14, 16]\n"
     ]
    }
   ],
   "source": [
    "a = [16, 4, 10, 14, 7, 9, 3, 2, 8, 1]\n",
    "print(a)\n",
    "lomuto = Lomuto(a)\n",
    "lomuto.sort()\n",
    "print(lomuto.a)"
   ]
  }
 ],
 "metadata": {
  "kernelspec": {
   "display_name": ".venv",
   "language": "python",
   "name": "python3"
  },
  "language_info": {
   "codemirror_mode": {
    "name": "ipython",
    "version": 3
   },
   "file_extension": ".py",
   "mimetype": "text/x-python",
   "name": "python",
   "nbconvert_exporter": "python",
   "pygments_lexer": "ipython3",
   "version": "3.13.2"
  }
 },
 "nbformat": 4,
 "nbformat_minor": 5
}
