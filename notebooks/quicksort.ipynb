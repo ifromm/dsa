{
 "cells": [
  {
   "cell_type": "code",
   "execution_count": 36,
   "id": "b30149ab-2cdd-4ed7-ba27-c245c2248147",
   "metadata": {},
   "outputs": [],
   "source": [
    "from abc import ABC, abstractmethod\n",
    "import random\n",
    "\n",
    "class Quicksort(ABC):\n",
    "    \n",
    "    \n",
    "    def __init__(self, a):\n",
    "        self.a = a\n",
    "        \n",
    "    \n",
    "    def sort(self):\n",
    "        self.quicksort(0, len(self.a) - 1)\n",
    "    \n",
    "    \n",
    "    def quicksort(self, p, r):\n",
    "        if p < r:\n",
    "            q = self.partition(p, r)\n",
    "            self.quicksort(p, self.high(q))\n",
    "            self.quicksort(q + 1, r)\n",
    "\n",
    "    @abstractmethod\n",
    "    def high(self, q):\n",
    "        pass\n",
    "    \n",
    "    @abstractmethod\n",
    "    def partition(self, p, r):\n",
    "        pass\n",
    "    \n",
    "\n",
    "class Hoare(Quicksort):\n",
    "        \n",
    "        \n",
    "    def high(self, q):\n",
    "        return q\n",
    "    \n",
    "    \n",
    "    def partition(self, p, r):\n",
    "        pivot = self.a[p]\n",
    "        i = p - 1\n",
    "        j = r + 1\n",
    "        \n",
    "        while True:\n",
    "            j -= 1\n",
    "            i += 1\n",
    "            while self.a[j] > pivot:\n",
    "                j -= 1\n",
    "            while self.a[i] < pivot:\n",
    "                i += 1\n",
    "            if i >= j:\n",
    "                return j\n",
    "            self.a[i], self.a[j] = self.a[j], self.a[i]\n",
    "            \n",
    "class RandomizedHoare(Hoare):\n",
    "    def partition(self, p, r):\n",
    "        pivot_index = random.randint(p, r)  # Select a random pivot\n",
    "        self.a[pivot_index], self.a[p] = self.a[p], self.a[pivot_index]  # Swap pivot to first position\n",
    "\n",
    "        pivot = self.a[p]\n",
    "        i = p - 1\n",
    "        j = r + 1\n",
    "        \n",
    "        while True:\n",
    "            j -= 1\n",
    "            i += 1\n",
    "            while self.a[j] > pivot:\n",
    "                j -= 1\n",
    "            while self.a[i] < pivot:\n",
    "                i += 1\n",
    "            if i >= j:\n",
    "                return j\n",
    "            self.a[i], self.a[j] = self.a[j], self.a[i]\n",
    "\n",
    "\n",
    "class Lomuto(Quicksort):\n",
    "    \n",
    "    \n",
    "    def high(self, q):\n",
    "        return q - 1\n",
    "    \n",
    "    \n",
    "    def partition(self, p, r):\n",
    "        pivot = self.a[p]\n",
    "        j = r\n",
    "        \n",
    "        for i in range(r, p, -1):\n",
    "            if self.a[i] > pivot:\n",
    "                if i < j:\n",
    "                    self.a[i], self.a[j] = self.a[j], self.a[i]\n",
    "                j -= 1\n",
    "                \n",
    "        if p < j:\n",
    "            self.a[p], self.a[j] = self.a[j], self.a[p]\n",
    "\n",
    "        return j\n",
    "        \n",
    "        "
   ]
  },
  {
   "cell_type": "code",
   "execution_count": 37,
   "id": "5534bed2-3d32-4b71-83a9-3973435ff7ad",
   "metadata": {},
   "outputs": [
    {
     "name": "stdout",
     "output_type": "stream",
     "text": [
      "[16, 4, 10, 14, 7, 9, 3, 2, 8, 1]\n",
      "[1, 2, 3, 4, 7, 8, 9, 10, 14, 16]\n"
     ]
    }
   ],
   "source": [
    "a = [16, 4, 10, 14, 7, 9, 3, 2, 8, 1]\n",
    "print(a)\n",
    "hoare = Hoare(a)\n",
    "hoare.sort()\n",
    "print(hoare.a)"
   ]
  },
  {
   "cell_type": "code",
   "execution_count": 38,
   "id": "97ebeb66",
   "metadata": {},
   "outputs": [
    {
     "name": "stdout",
     "output_type": "stream",
     "text": [
      "[16, 4, 10, 14, 7, 9, 3, 2, 8, 1]\n",
      "[1, 2, 3, 4, 7, 8, 9, 10, 14, 16]\n"
     ]
    }
   ],
   "source": [
    "a = [16, 4, 10, 14, 7, 9, 3, 2, 8, 1]\n",
    "print(a)\n",
    "hoare = RandomizedHoare(a)\n",
    "hoare.sort()\n",
    "print(hoare.a)"
   ]
  },
  {
   "cell_type": "code",
   "execution_count": 39,
   "id": "cd8d03f8",
   "metadata": {},
   "outputs": [
    {
     "name": "stdout",
     "output_type": "stream",
     "text": [
      "[16, 4, 10, 14, 7, 9, 3, 2, 8, 1]\n",
      "[1, 2, 3, 4, 7, 8, 9, 10, 14, 16]\n"
     ]
    }
   ],
   "source": [
    "a = [16, 4, 10, 14, 7, 9, 3, 2, 8, 1]\n",
    "print(a)\n",
    "lomuto = Lomuto(a)\n",
    "lomuto.sort()\n",
    "print(lomuto.a)"
   ]
  }
 ],
 "metadata": {
  "kernelspec": {
   "display_name": ".venv",
   "language": "python",
   "name": "python3"
  },
  "language_info": {
   "codemirror_mode": {
    "name": "ipython",
    "version": 3
   },
   "file_extension": ".py",
   "mimetype": "text/x-python",
   "name": "python",
   "nbconvert_exporter": "python",
   "pygments_lexer": "ipython3",
   "version": "3.13.2"
  }
 },
 "nbformat": 4,
 "nbformat_minor": 5
}
