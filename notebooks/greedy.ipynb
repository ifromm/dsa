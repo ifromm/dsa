{
 "cells": [
  {
   "cell_type": "code",
   "execution_count": 15,
   "id": "59560d7d-6818-49cd-b2b6-e7a0bac8338c",
   "metadata": {},
   "outputs": [
    {
     "name": "stdout",
     "output_type": "stream",
     "text": [
      "[(1, 4), (5, 7), (8, 11), (12, 14)]\n",
      "[0, 3, 7, 10]\n"
     ]
    }
   ],
   "source": [
    "def select(activities):\n",
    "    activities.sort(key = lambda x: x[1])\n",
    "    result = [activities[0]]\n",
    "    indices = [0]\n",
    "    j = 0\n",
    "    for i in range(1, len(activities)):\n",
    "        if activities[i][0] >= activities[j][1]:\n",
    "            result.append(activities[i])\n",
    "            indices.append(i)\n",
    "            j = i\n",
    "    \n",
    "    return result, indices\n",
    "            \n",
    "\n",
    "activities = [(1, 4), (3, 5), (0, 6), (5, 7), (3, 8), (5, 9), (6, 10), (8, 11), (8, 12), (2, 13), (12, 14)]\n",
    "\n",
    "selected, indices = select(activities)\n",
    "print(selected)\n",
    "print(indices)"
   ]
  },
  {
   "cell_type": "code",
   "execution_count": 16,
   "id": "fe6c788e-4f71-4830-9be0-296016324fbd",
   "metadata": {},
   "outputs": [],
   "source": [
    "class Heap():\n",
    "    \n",
    "    def __init__(self, a=[], size=10):\n",
    "        self.a = a\n",
    "        self.size = size\n",
    "    \n",
    "    def parent(i):\n",
    "        return (i - 1) // 2\n",
    "\n",
    "    def left(i):\n",
    "        return 2 * i + 1\n",
    "\n",
    "    def right(i):\n",
    "        return 2 * i + 2\n",
    "\n",
    "    def __len__(self):\n",
    "        return self.size\n",
    "\n",
    "    def check_heap_property(self):\n",
    "        for i in range(1, self.size):\n",
    "            if self.a[i] < self.a[Heap.parent(i)]:\n",
    "                return False\n",
    "        return True\n",
    "    \n",
    "    def heapify(self, i):\n",
    "        l = Heap.left(i)\n",
    "        r = Heap.right(i)\n",
    "        \n",
    "        if l < self.size and self.a[l] < self.a[i]:\n",
    "            smallest = l\n",
    "        else:\n",
    "            smallest = i\n",
    "        \n",
    "        if r < self.size and self.a[r] < self.a[smallest]:\n",
    "            smallest = r\n",
    "        \n",
    "        if smallest != i:\n",
    "            self.a[smallest], self.a[i] = self.a[i], self.a[smallest]\n",
    "            self.heapify(smallest)\n",
    "            \n",
    "    def build_heap(self):\n",
    "        self.size = len(self.a)\n",
    "        for i in range(self.size // 2 - 1, -1, -1):\n",
    "            self.heapify(i)\n",
    "            \n",
    "    def heapsort(self):\n",
    "        self.build_heap()\n",
    "        print(self.a)\n",
    "        for i in range(len(self.a) - 1, 0, -1):\n",
    "            self.a[0], self.a[i] = self.a[i], self.a[0]\n",
    "            self.size -= 1\n",
    "            self.heapify(0)\n",
    "            print(self.a)\n",
    "            \n",
    "    def extract_min(self):\n",
    "        result = self.a[0]\n",
    "        self.a[0] = self.a[self.size - 1]\n",
    "        self.size -= 1\n",
    "        self.heapify(0)\n",
    "        return result\n",
    "    \n",
    "    def insert(self, e):\n",
    "        self.size += 1\n",
    "        if len(self.a) < self.size:\n",
    "            self.a.append(e)\n",
    "        else:\n",
    "            self.a[self.size] = e\n",
    "        \n",
    "        i = self.size - 1\n",
    "        while i > 0 and self.a[Heap.parent(i)] > e:\n",
    "            self.a[i] = self.a[Heap.parent(i)]\n",
    "            i = Heap.parent(i)\n",
    "        self.a[i] = e"
   ]
  },
  {
   "cell_type": "code",
   "execution_count": 17,
   "id": "20556464-a0f8-4cd4-9731-cc01c46471eb",
   "metadata": {},
   "outputs": [
    {
     "name": "stdout",
     "output_type": "stream",
     "text": [
      "True\n",
      "[5, 9, 12, 45, 13, 16]\n",
      "5\n",
      "True\n",
      "[9, 13, 12, 45, 16, 16]\n"
     ]
    }
   ],
   "source": [
    "h = Heap(size=0)\n",
    "h.insert(45)\n",
    "h.insert(16)\n",
    "h.insert(5)\n",
    "h.insert(9)\n",
    "h.insert(13)\n",
    "h.insert(12)\n",
    "\n",
    "print(h.check_heap_property())\n",
    "print(h.a)\n",
    "\n",
    "print(h.extract_min())\n",
    "print(h.check_heap_property())\n",
    "print(h.a)"
   ]
  },
  {
   "cell_type": "code",
   "execution_count": null,
   "id": "c64b1431-c754-4335-8ad6-97091916d010",
   "metadata": {},
   "outputs": [],
   "source": []
  }
 ],
 "metadata": {
  "kernelspec": {
   "display_name": "python3.13-venv",
   "language": "python",
   "name": "python3"
  },
  "language_info": {
   "codemirror_mode": {
    "name": "ipython",
    "version": 3
   },
   "file_extension": ".py",
   "mimetype": "text/x-python",
   "name": "python",
   "nbconvert_exporter": "python",
   "pygments_lexer": "ipython3",
   "version": "3.13.4"
  }
 },
 "nbformat": 4,
 "nbformat_minor": 5
}
