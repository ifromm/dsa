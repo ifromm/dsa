{
 "cells": [
  {
   "cell_type": "markdown",
   "id": "50de5777-a82c-4819-b085-109520f0d7b8",
   "metadata": {},
   "source": [
    "## Heap class, implementing the heap data structure and the heapsort"
   ]
  },
  {
   "cell_type": "code",
   "execution_count": 42,
   "id": "819e3c99-5a8c-49bb-8b30-c56249b1e3e9",
   "metadata": {},
   "outputs": [],
   "source": [
    "class Heap():\n",
    "    \n",
    "    def __init__(self, a=[], size=10):\n",
    "        self.a = a\n",
    "        self.size = size\n",
    "    \n",
    "    def parent(i):\n",
    "        return (i - 1) // 2\n",
    "\n",
    "    def left(i):\n",
    "        return 2 * i + 1\n",
    "\n",
    "    def right(i):\n",
    "        return 2 * i + 2\n",
    "\n",
    "    def size(self):\n",
    "        return self.size\n",
    "\n",
    "    def check_heap_property(self):\n",
    "        for i in range(1, self.size):\n",
    "            if self.a[i] > self.a[Heap.parent(i)]:\n",
    "                return False\n",
    "        return True\n",
    "    \n",
    "    def heapify(self, i):\n",
    "        l = Heap.left(i)\n",
    "        r = Heap.right(i)\n",
    "        \n",
    "        if l < self.size and self.a[l] > self.a[i]:\n",
    "            largest = l\n",
    "        else:\n",
    "            largest = i\n",
    "        \n",
    "        if r < self.size and self.a[r] > self.a[largest]:\n",
    "            largest = r\n",
    "        \n",
    "        if largest != i:\n",
    "            self.a[largest], self.a[i] = self.a[i], self.a[largest]\n",
    "            self.heapify(largest)\n",
    "            \n",
    "    def build_heap(self):\n",
    "        self.size = len(self.a)\n",
    "        for i in range(self.size // 2 - 1, -1, -1):\n",
    "            self.heapify(i)\n",
    "            \n",
    "    def heapsort(self):\n",
    "        self.build_heap()\n",
    "        for i in range(len(self.a) - 1, 0, -1):\n",
    "            self.a[0], self.a[i] = self.a[i], self.a[0]\n",
    "            self.size -= 1\n",
    "            self.heapify(0)"
   ]
  },
  {
   "cell_type": "markdown",
   "id": "45fdd919-c0a8-4f7a-8074-c9a1e75e7c63",
   "metadata": {},
   "source": [
    "### Testing parent, left, and right nodes"
   ]
  },
  {
   "cell_type": "code",
   "execution_count": 43,
   "id": "6a03db4c-bf4e-410a-8ff6-3a86aa721af8",
   "metadata": {},
   "outputs": [
    {
     "name": "stdout",
     "output_type": "stream",
     "text": [
      "node: 0, parent: -1, left: 1, right: 2\n",
      "node: 1, parent: 0, left: 3, right: 4\n",
      "node: 2, parent: 0, left: 5, right: 6\n",
      "node: 3, parent: 1, left: 7, right: 8\n",
      "node: 4, parent: 1, left: 9, right: 10\n",
      "node: 5, parent: 2, left: 11, right: 12\n",
      "node: 6, parent: 2, left: 13, right: 14\n",
      "node: 7, parent: 3, left: 15, right: 16\n",
      "node: 8, parent: 3, left: 17, right: 18\n",
      "node: 9, parent: 4, left: 19, right: 20\n"
     ]
    }
   ],
   "source": [
    "for i in range(0, 10):\n",
    "    print(f'node: {i}, parent: {Heap.parent(i)}, left: {Heap.left(i)}, right: {Heap.right(i)}')"
   ]
  },
  {
   "cell_type": "markdown",
   "id": "156df89a-5692-43eb-93b3-86d6c8a658eb",
   "metadata": {},
   "source": [
    "### Checking the heap property"
   ]
  },
  {
   "cell_type": "code",
   "execution_count": 44,
   "id": "40cb428b-0cdc-4251-b9bb-573cdbe3eec0",
   "metadata": {},
   "outputs": [
    {
     "name": "stdout",
     "output_type": "stream",
     "text": [
      "False\n"
     ]
    }
   ],
   "source": [
    "heap = Heap([16, 4, 10, 14, 7, 9, 3, 2, 8, 1])\n",
    "print(heap.check_heap_property())"
   ]
  },
  {
   "cell_type": "markdown",
   "id": "b228761b-a039-4d7b-b80a-55b40ca2c286",
   "metadata": {},
   "source": [
    "### Heapify"
   ]
  },
  {
   "cell_type": "code",
   "execution_count": 45,
   "id": "a3fc3147-3f84-4f28-a6da-ffec301b17ec",
   "metadata": {},
   "outputs": [
    {
     "name": "stdout",
     "output_type": "stream",
     "text": [
      "Array:  [16, 4, 10, 14, 7, 9, 3, 2, 8, 1]\n",
      "Heap property:  False\n",
      "Array:  [16, 14, 10, 8, 7, 9, 3, 2, 4, 1]\n",
      "Heap property:  True\n"
     ]
    }
   ],
   "source": [
    "print('Array: ', heap.a)\n",
    "print('Heap property: ', heap.check_heap_property())\n",
    "\n",
    "heap.heapify(1)\n",
    "\n",
    "print('Array: ', heap.a)\n",
    "print('Heap property: ', heap.check_heap_property())"
   ]
  },
  {
   "cell_type": "markdown",
   "id": "e4139f7e-5ecd-4fb7-8ae9-501f3bd3f745",
   "metadata": {},
   "source": [
    "### Build heap"
   ]
  },
  {
   "cell_type": "code",
   "execution_count": 46,
   "id": "34a09a2b-43a0-4e78-8e2d-b66befb45367",
   "metadata": {},
   "outputs": [
    {
     "name": "stdout",
     "output_type": "stream",
     "text": [
      "Array:  [16, 14, 10, 8, 7, 9, 3, 2, 4, 1]\n",
      "Heap property:  True\n",
      "Array:  [16, 14, 9, 10, 7, 2, 4, 3, 8, 1]\n",
      "Heap property:  True\n"
     ]
    }
   ],
   "source": [
    "heap.a = [16, 4, 10, 14, 7, 9, 3, 2, 8, 1]\n",
    "heap.build_heap()\n",
    "print('Array: ', heap.a)\n",
    "print('Heap property: ', heap.check_heap_property())\n",
    "\n",
    "heap.a = [9, 3, 2, 8, 1, 16, 4, 10, 14, 7]\n",
    "heap.build_heap()\n",
    "print('Array: ', heap.a)\n",
    "print('Heap property: ', heap.check_heap_property())"
   ]
  },
  {
   "cell_type": "markdown",
   "id": "58966bdc-42f4-4df7-8a6e-f487dce6b4d8",
   "metadata": {},
   "source": [
    "### Sort the heap"
   ]
  },
  {
   "cell_type": "code",
   "execution_count": 47,
   "id": "5ea4184b-f598-4f51-a718-b0c6253c19fc",
   "metadata": {},
   "outputs": [
    {
     "name": "stdout",
     "output_type": "stream",
     "text": [
      "Array:  [1, 2, 3, 4, 7, 8, 9, 10, 14, 16]\n",
      "Heap size:  1\n",
      "Heap property:  True\n"
     ]
    }
   ],
   "source": [
    "heap.heapsort()\n",
    "print('Array: ', heap.a)\n",
    "print('Heap size: ', heap.size)\n",
    "print('Heap property: ', heap.check_heap_property())"
   ]
  },
  {
   "cell_type": "markdown",
   "id": "88166b6e-03e0-4d5c-99b1-bab9f0716f31",
   "metadata": {},
   "source": [
    "### Sort an array"
   ]
  },
  {
   "cell_type": "code",
   "execution_count": 48,
   "id": "6a28e28a-f950-4d4d-ab66-060e214986c6",
   "metadata": {},
   "outputs": [
    {
     "name": "stdout",
     "output_type": "stream",
     "text": [
      "Array:  [1, 2, 3, 4, 7, 8, 9, 10, 14, 16]\n"
     ]
    }
   ],
   "source": [
    "heap = Heap([16, 4, 10, 14, 7, 9, 3, 2, 8, 1])\n",
    "heap.heapsort()\n",
    "print('Array: ', heap.a)"
   ]
  }
 ],
 "metadata": {
  "kernelspec": {
   "display_name": "Python 3",
   "language": "python",
   "name": "python3"
  },
  "language_info": {
   "codemirror_mode": {
    "name": "ipython",
    "version": 3
   },
   "file_extension": ".py",
   "mimetype": "text/x-python",
   "name": "python",
   "nbconvert_exporter": "python",
   "pygments_lexer": "ipython3",
   "version": "3.13.2"
  }
 },
 "nbformat": 4,
 "nbformat_minor": 5
}
