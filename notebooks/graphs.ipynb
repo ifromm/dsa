{
 "cells": [
  {
   "cell_type": "code",
   "execution_count": 2,
   "id": "4784caf7-d40d-485b-afa0-93ac4c07dc43",
   "metadata": {},
   "outputs": [],
   "source": [
    "import networkx as nx"
   ]
  },
  {
   "cell_type": "code",
   "execution_count": 3,
   "id": "e10c9364-90f6-4b2f-b07e-ee44cbe770b5",
   "metadata": {},
   "outputs": [],
   "source": [
    "class Queue:\n",
    "    \n",
    "    \n",
    "    DEFAULT_CAPACITY = 10\n",
    "    \n",
    "    \n",
    "    def __init__(self):\n",
    "        self._data = [None] * Queue.DEFAULT_CAPACITY\n",
    "        self._size = 0\n",
    "        self._front = 0\n",
    "        \n",
    "    \n",
    "    def __len__(self):\n",
    "        return self._size\n",
    "    \n",
    "    \n",
    "    def is_empty(self):\n",
    "        return self._size == 0\n",
    "    \n",
    "    \n",
    "    def first(self):\n",
    "        if self.is_empty():\n",
    "            raise Empty('Queue is empty')\n",
    "        return self._data[self._front]\n",
    "    \n",
    "    \n",
    "    def dequeue(self):\n",
    "        e = self.first()\n",
    "        self._data[self._front] = None\n",
    "        self._front = (self._front + 1) % len(self._data)\n",
    "        self._size -= 1\n",
    "        return e\n",
    "    \n",
    "    \n",
    "    def enqueue(self, e):\n",
    "        if self._size == len(self._data):\n",
    "            self._resize(2 * len(self._data))\n",
    "        back = (self._front + self._size) % len(self._data)\n",
    "        self._data[back] = e\n",
    "        self._size += 1\n",
    "        \n",
    "        \n",
    "    def _resize(self, capacity):\n",
    "        old = self._data\n",
    "        self._data = [None] * capacity\n",
    "        i = self._front\n",
    "        for j in range(self._size):\n",
    "            self._data[j] = old[i]\n",
    "            i = (i + 1) % len(old)\n",
    "        self._front = 0\n",
    "    \n",
    "    \n",
    "    def __str__(self):\n",
    "        return f'{self._data}'"
   ]
  },
  {
   "cell_type": "code",
   "execution_count": null,
   "id": "67bc89fe-a535-46e7-8d38-dbee5d1d9d28",
   "metadata": {},
   "outputs": [],
   "source": [
    "def BFS(g, s):\n",
    "    q = Queue() # Create a new queue\n",
    "    if s not in g.nodes:\n",
    "        raise ValueError(f\"Source node {s} is not in the graph\")\n",
    "    if not isinstance(g, nx.Graph):\n",
    "        raise TypeError(\"Input must be a networkx Graph object\")\n",
    "\n",
    "    q.enqueue(s)\n",
    "    \n",
    "    color = {} # color of the node: white (unvisited), grey (visited but not all neighbours processed), black (all neighbours processed)\n",
    "    d = {} # distance from source\n",
    "    # parent[v] is the node from which we reached v\n",
    "    parent = {}\n",
    "    \n",
    "    # Initialize all nodes\n",
    "    for node in g.nodes:\n",
    "        color[node] = 'white'\n",
    "        d[node] = float('inf')\n",
    "        parent[node] = None\n",
    "    color[s] = 'grey' # we haven't visited the neighbours yet\n",
    "    d[s] = 0\n",
    "    \n",
    "    while not q.is_empty():\n",
    "        u = q.dequeue()\n",
    "        for v in g.adj[u]:\n",
    "            if color[v] == 'white':\n",
    "                color[v] = 'grey'\n",
    "                d[v] = d[u] + 1\n",
    "                parent[v] = u\n",
    "                q.enqueue(v)\n",
    "        color[u] = 'black' # optionally mark the node as fully processed\n",
    "    return d, parent"
   ]
  },
  {
   "cell_type": "code",
   "execution_count": 5,
   "id": "75a4ce9b-1488-4509-a646-65b7c8b4aea9",
   "metadata": {},
   "outputs": [
    {
     "name": "stdout",
     "output_type": "stream",
     "text": [
      "{'Myriel': 0, 'Napoleon': 1, 'MlleBaptistine': 1, 'MmeMagloire': 1, 'CountessDeLo': 1, 'Geborand': 1, 'Champtercier': 1, 'Cravatte': 1, 'Count': 1, 'OldMan': 1, 'Labarre': 2, 'Valjean': 1, 'Marguerite': 2, 'MmeDeR': 2, 'Isabeau': 2, 'Gervais': 2, 'Tholomyes': 3, 'Listolier': 3, 'Fameuil': 3, 'Blacheville': 3, 'Favourite': 3, 'Dahlia': 3, 'Zephine': 3, 'Fantine': 2, 'MmeThenardier': 2, 'Thenardier': 2, 'Cosette': 2, 'Javert': 2, 'Fauchelevent': 2, 'Bamatabois': 2, 'Perpetue': 3, 'Simplice': 2, 'Scaufflaire': 2, 'Woman1': 2, 'Judge': 2, 'Champmathieu': 2, 'Brevet': 2, 'Chenildieu': 2, 'Cochepaille': 2, 'Pontmercy': 3, 'Boulatruelle': 3, 'Eponine': 3, 'Anzelma': 3, 'Woman2': 2, 'MotherInnocent': 2, 'Gribier': 3, 'Jondrette': 4, 'MmeBurgon': 3, 'Gavroche': 2, 'Gillenormand': 2, 'Magnon': 3, 'MlleGillenormand': 2, 'MmePontmercy': 3, 'MlleVaubois': 3, 'LtGillenormand': 3, 'Marius': 2, 'BaronessT': 3, 'Mabeuf': 3, 'Enjolras': 2, 'Combeferre': 3, 'Prouvaire': 3, 'Feuilly': 3, 'Courfeyrac': 3, 'Bahorel': 3, 'Bossuet': 2, 'Joly': 3, 'Grantaire': 3, 'MotherPlutarch': 4, 'Gueulemer': 2, 'Babet': 2, 'Claquesous': 2, 'Montparnasse': 2, 'Toussaint': 2, 'Child1': 3, 'Child2': 3, 'Brujon': 3, 'MmeHucheloup': 3}\n",
      "{'Myriel': None, 'Napoleon': 'Myriel', 'MlleBaptistine': 'Myriel', 'MmeMagloire': 'Myriel', 'CountessDeLo': 'Myriel', 'Geborand': 'Myriel', 'Champtercier': 'Myriel', 'Cravatte': 'Myriel', 'Count': 'Myriel', 'OldMan': 'Myriel', 'Labarre': 'Valjean', 'Valjean': 'Myriel', 'Marguerite': 'Valjean', 'MmeDeR': 'Valjean', 'Isabeau': 'Valjean', 'Gervais': 'Valjean', 'Tholomyes': 'Fantine', 'Listolier': 'Fantine', 'Fameuil': 'Fantine', 'Blacheville': 'Fantine', 'Favourite': 'Fantine', 'Dahlia': 'Fantine', 'Zephine': 'Fantine', 'Fantine': 'Valjean', 'MmeThenardier': 'Valjean', 'Thenardier': 'Valjean', 'Cosette': 'Valjean', 'Javert': 'Valjean', 'Fauchelevent': 'Valjean', 'Bamatabois': 'Valjean', 'Perpetue': 'Fantine', 'Simplice': 'Valjean', 'Scaufflaire': 'Valjean', 'Woman1': 'Valjean', 'Judge': 'Valjean', 'Champmathieu': 'Valjean', 'Brevet': 'Valjean', 'Chenildieu': 'Valjean', 'Cochepaille': 'Valjean', 'Pontmercy': 'Thenardier', 'Boulatruelle': 'Thenardier', 'Eponine': 'MmeThenardier', 'Anzelma': 'MmeThenardier', 'Woman2': 'Valjean', 'MotherInnocent': 'Valjean', 'Gribier': 'Fauchelevent', 'Jondrette': 'MmeBurgon', 'MmeBurgon': 'Gavroche', 'Gavroche': 'Valjean', 'Gillenormand': 'Valjean', 'Magnon': 'MmeThenardier', 'MlleGillenormand': 'Valjean', 'MmePontmercy': 'MlleGillenormand', 'MlleVaubois': 'MlleGillenormand', 'LtGillenormand': 'Cosette', 'Marius': 'Valjean', 'BaronessT': 'Gillenormand', 'Mabeuf': 'Gavroche', 'Enjolras': 'Valjean', 'Combeferre': 'Gavroche', 'Prouvaire': 'Gavroche', 'Feuilly': 'Gavroche', 'Courfeyrac': 'Gavroche', 'Bahorel': 'Gavroche', 'Bossuet': 'Valjean', 'Joly': 'Gavroche', 'Grantaire': 'Gavroche', 'MotherPlutarch': 'Mabeuf', 'Gueulemer': 'Valjean', 'Babet': 'Valjean', 'Claquesous': 'Valjean', 'Montparnasse': 'Valjean', 'Toussaint': 'Valjean', 'Child1': 'Gavroche', 'Child2': 'Gavroche', 'Brujon': 'Thenardier', 'MmeHucheloup': 'Gavroche'}\n"
     ]
    }
   ],
   "source": [
    "g = nx.read_gml('lesmis.gml')\n",
    "\n",
    "d, t = BFS(g, 'Myriel')\n",
    "print(d)\n",
    "print(t)"
   ]
  },
  {
   "cell_type": "code",
   "execution_count": null,
   "id": "1bf01a78-2b90-4260-99c9-7b730060ae5c",
   "metadata": {},
   "outputs": [],
   "source": [
    "def DFS(g, s):\n",
    "    visited = {}\n",
    "    parent = {}\n",
    "    \n",
    "    # Initialise all nodes\n",
    "    for node in g.nodes:\n",
    "        visited[node] = False\n",
    "        parent[node] = None\n",
    "    \n",
    "    return DFS_traversal(g, s, visited, parent)\n",
    "\n",
    "def DFS_traversal(g, u, visited, parent):\n",
    "    visited[u] = True\n",
    "    for v in g.adj[u]:\n",
    "        if not visited[v]:\n",
    "            parent[v] = u\n",
    "            DFS_traversal(g, v, visited, parent)\n",
    "    return visited, parent"
   ]
  },
  {
   "cell_type": "code",
   "execution_count": 7,
   "id": "bc7b4605-0c42-4d6b-a798-46bf64b2bc08",
   "metadata": {},
   "outputs": [
    {
     "name": "stdout",
     "output_type": "stream",
     "text": [
      "{'Myriel': True, 'Napoleon': True, 'MlleBaptistine': True, 'MmeMagloire': True, 'CountessDeLo': True, 'Geborand': True, 'Champtercier': True, 'Cravatte': True, 'Count': True, 'OldMan': True, 'Labarre': True, 'Valjean': True, 'Marguerite': True, 'MmeDeR': True, 'Isabeau': True, 'Gervais': True, 'Tholomyes': True, 'Listolier': True, 'Fameuil': True, 'Blacheville': True, 'Favourite': True, 'Dahlia': True, 'Zephine': True, 'Fantine': True, 'MmeThenardier': True, 'Thenardier': True, 'Cosette': True, 'Javert': True, 'Fauchelevent': True, 'Bamatabois': True, 'Perpetue': True, 'Simplice': True, 'Scaufflaire': True, 'Woman1': True, 'Judge': True, 'Champmathieu': True, 'Brevet': True, 'Chenildieu': True, 'Cochepaille': True, 'Pontmercy': True, 'Boulatruelle': True, 'Eponine': True, 'Anzelma': True, 'Woman2': True, 'MotherInnocent': True, 'Gribier': True, 'Jondrette': True, 'MmeBurgon': True, 'Gavroche': True, 'Gillenormand': True, 'Magnon': True, 'MlleGillenormand': True, 'MmePontmercy': True, 'MlleVaubois': True, 'LtGillenormand': True, 'Marius': True, 'BaronessT': True, 'Mabeuf': True, 'Enjolras': True, 'Combeferre': True, 'Prouvaire': True, 'Feuilly': True, 'Courfeyrac': True, 'Bahorel': True, 'Bossuet': True, 'Joly': True, 'Grantaire': True, 'MotherPlutarch': True, 'Gueulemer': True, 'Babet': True, 'Claquesous': True, 'Montparnasse': True, 'Toussaint': True, 'Child1': True, 'Child2': True, 'Brujon': True, 'MmeHucheloup': True}\n",
      "{'Myriel': None, 'Napoleon': 'Myriel', 'MlleBaptistine': 'Myriel', 'MmeMagloire': 'MlleBaptistine', 'CountessDeLo': 'Myriel', 'Geborand': 'Myriel', 'Champtercier': 'Myriel', 'Cravatte': 'Myriel', 'Count': 'Myriel', 'OldMan': 'Myriel', 'Labarre': 'Valjean', 'Valjean': 'MmeMagloire', 'Marguerite': 'Valjean', 'MmeDeR': 'Valjean', 'Isabeau': 'Valjean', 'Gervais': 'Valjean', 'Tholomyes': 'Fantine', 'Listolier': 'Tholomyes', 'Fameuil': 'Listolier', 'Blacheville': 'Fameuil', 'Favourite': 'Blacheville', 'Dahlia': 'Favourite', 'Zephine': 'Dahlia', 'Fantine': 'Marguerite', 'MmeThenardier': 'Cosette', 'Thenardier': 'MmeThenardier', 'Cosette': 'Tholomyes', 'Javert': 'Thenardier', 'Fauchelevent': 'Javert', 'Bamatabois': 'Javert', 'Perpetue': 'Simplice', 'Simplice': 'Javert', 'Scaufflaire': 'Valjean', 'Woman1': 'Javert', 'Judge': 'Bamatabois', 'Champmathieu': 'Judge', 'Brevet': 'Champmathieu', 'Chenildieu': 'Brevet', 'Cochepaille': 'Chenildieu', 'Pontmercy': 'Marius', 'Boulatruelle': 'Thenardier', 'Eponine': 'Marius', 'Anzelma': 'Eponine', 'Woman2': 'Javert', 'MotherInnocent': 'Fauchelevent', 'Gribier': 'Fauchelevent', 'Jondrette': 'MmeBurgon', 'MmeBurgon': 'Gavroche', 'Gavroche': 'Javert', 'Gillenormand': 'MlleGillenormand', 'Magnon': 'Gillenormand', 'MlleGillenormand': 'MmePontmercy', 'MmePontmercy': 'Pontmercy', 'MlleVaubois': 'MlleGillenormand', 'LtGillenormand': 'Gillenormand', 'Marius': 'Gavroche', 'BaronessT': 'Gillenormand', 'Mabeuf': 'Eponine', 'Enjolras': 'Mabeuf', 'Combeferre': 'Enjolras', 'Prouvaire': 'Combeferre', 'Feuilly': 'Prouvaire', 'Courfeyrac': 'Feuilly', 'Bahorel': 'Courfeyrac', 'Bossuet': 'Bahorel', 'Joly': 'Bossuet', 'Grantaire': 'Joly', 'MotherPlutarch': 'Mabeuf', 'Gueulemer': 'Claquesous', 'Babet': 'Gueulemer', 'Claquesous': 'Enjolras', 'Montparnasse': 'Babet', 'Toussaint': 'Javert', 'Child1': 'Gavroche', 'Child2': 'Child1', 'Brujon': 'Montparnasse', 'MmeHucheloup': 'Grantaire'}\n"
     ]
    }
   ],
   "source": [
    "d, t = DFS(g, 'Myriel')\n",
    "print(d)\n",
    "print(t)"
   ]
  },
  {
   "cell_type": "code",
   "execution_count": null,
   "id": "e07c63bc-e4b8-4c06-ab44-8fe3a1d8406b",
   "metadata": {},
   "outputs": [],
   "source": [
    "def initialize_single_source(g, s, parent, d):\n",
    "    for v in g.nodes:\n",
    "        d[v] = float('inf')\n",
    "        parent[v] = None\n",
    "    d[s] = 0\n",
    "\n",
    "def relax(u, v, w, parent, d):\n",
    "    if d[v] > d[u] + w(u,v):\n",
    "        d[v] = d[u] + w(u,v)\n",
    "        parent[v] = u\n",
    "\n",
    "def dijkstra(g, w, s, parent, d):\n",
    "    initialize_single_source(g, s, parent, d)\n",
    "    S = set()\n",
    "    q = Queue()\n",
    "    q.enqueue(g.nodes)\n",
    "    while not q.is_empty():\n",
    "        u = q.extract_min()\n",
    "        S = S.union(u)\n",
    "        for v in g.adj[u]:\n",
    "            relax(u, v, w, parent, d)\n"
   ]
  }
 ],
 "metadata": {
  "kernelspec": {
   "display_name": "python3.13-venv",
   "language": "python",
   "name": "python3"
  },
  "language_info": {
   "codemirror_mode": {
    "name": "ipython",
    "version": 3
   },
   "file_extension": ".py",
   "mimetype": "text/x-python",
   "name": "python",
   "nbconvert_exporter": "python",
   "pygments_lexer": "ipython3",
   "version": "3.13.5"
  }
 },
 "nbformat": 4,
 "nbformat_minor": 5
}
